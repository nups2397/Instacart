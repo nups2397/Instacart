{
 "cells": [
  {
   "cell_type": "markdown",
   "id": "20a3e021",
   "metadata": {},
   "source": [
    "## Table of Contents\n",
    "\n",
    "### - Importing Libraries\n",
    "\n",
    "## Working with Python Data Types\n",
    "\n",
    "### - Q7: Code 3 different ways of reaching a result of 100.\n",
    "\n",
    "### - Q8: Code 2 floating-point variables.\n",
    "\n",
    "### - Q9: Construct a short word made of separate strings.\n",
    "\n",
    "### - Q10: Construct 2 short sentences made of separate strings.\n",
    "\n",
    "### - Bonus Task"
   ]
  },
  {
   "cell_type": "markdown",
   "id": "50828a94",
   "metadata": {},
   "source": [
    "-----------------------------------------------------"
   ]
  },
  {
   "cell_type": "markdown",
   "id": "a4a7d666",
   "metadata": {},
   "source": [
    "## Importing Libraries"
   ]
  },
  {
   "cell_type": "code",
   "execution_count": 1,
   "id": "b7f9d1fa",
   "metadata": {},
   "outputs": [],
   "source": [
    "# Importing Libraries\n",
    "import pandas as pd\n",
    "import numpy as np\n",
    "import os"
   ]
  },
  {
   "cell_type": "markdown",
   "id": "3c9a0cf7",
   "metadata": {},
   "source": [
    "# Working with Python Data Types"
   ]
  },
  {
   "cell_type": "markdown",
   "id": "0334fd3b",
   "metadata": {},
   "source": [
    "### Question 7"
   ]
  },
  {
   "cell_type": "markdown",
   "id": "3b3f54b7",
   "metadata": {},
   "source": [
    "#### Code 3 different ways of reaching a result of 100 by adding or subtracting numeric variables. "
   ]
  },
  {
   "cell_type": "markdown",
   "id": "dfaefdd8",
   "metadata": {},
   "source": [
    "Way 1"
   ]
  },
  {
   "cell_type": "code",
   "execution_count": 2,
   "id": "b16e0ebf",
   "metadata": {},
   "outputs": [],
   "source": [
    "x=50"
   ]
  },
  {
   "cell_type": "code",
   "execution_count": 3,
   "id": "6969dee6",
   "metadata": {},
   "outputs": [],
   "source": [
    "y=50"
   ]
  },
  {
   "cell_type": "code",
   "execution_count": 4,
   "id": "9fbefed8",
   "metadata": {},
   "outputs": [
    {
     "data": {
      "text/plain": [
       "int"
      ]
     },
     "execution_count": 4,
     "metadata": {},
     "output_type": "execute_result"
    }
   ],
   "source": [
    "type(x)"
   ]
  },
  {
   "cell_type": "code",
   "execution_count": 5,
   "id": "640e62cf",
   "metadata": {},
   "outputs": [
    {
     "data": {
      "text/plain": [
       "100"
      ]
     },
     "execution_count": 5,
     "metadata": {},
     "output_type": "execute_result"
    }
   ],
   "source": [
    "x+y"
   ]
  },
  {
   "cell_type": "markdown",
   "id": "06f3a48d",
   "metadata": {},
   "source": [
    "Way 2"
   ]
  },
  {
   "cell_type": "code",
   "execution_count": 6,
   "id": "3e2fed16",
   "metadata": {},
   "outputs": [],
   "source": [
    "x=150"
   ]
  },
  {
   "cell_type": "code",
   "execution_count": 7,
   "id": "540182b5",
   "metadata": {},
   "outputs": [
    {
     "data": {
      "text/plain": [
       "100"
      ]
     },
     "execution_count": 7,
     "metadata": {},
     "output_type": "execute_result"
    }
   ],
   "source": [
    "x-y"
   ]
  },
  {
   "cell_type": "markdown",
   "id": "8291c398",
   "metadata": {},
   "source": [
    "Way 3"
   ]
  },
  {
   "cell_type": "code",
   "execution_count": null,
   "id": "c63ea152",
   "metadata": {},
   "outputs": [],
   "source": [
    "w=25"
   ]
  },
  {
   "cell_type": "code",
   "execution_count": 9,
   "id": "9fb4a45b",
   "metadata": {},
   "outputs": [],
   "source": [
    "x=25"
   ]
  },
  {
   "cell_type": "code",
   "execution_count": 10,
   "id": "86d4997d",
   "metadata": {},
   "outputs": [],
   "source": [
    "y=25"
   ]
  },
  {
   "cell_type": "code",
   "execution_count": 11,
   "id": "6edace1b",
   "metadata": {},
   "outputs": [],
   "source": [
    "z=25"
   ]
  },
  {
   "cell_type": "code",
   "execution_count": 12,
   "id": "f3651a5a",
   "metadata": {},
   "outputs": [
    {
     "data": {
      "text/plain": [
       "100"
      ]
     },
     "execution_count": 12,
     "metadata": {},
     "output_type": "execute_result"
    }
   ],
   "source": [
    "w+x+y+z"
   ]
  },
  {
   "cell_type": "markdown",
   "id": "92797f00",
   "metadata": {},
   "source": [
    "### Question 8"
   ]
  },
  {
   "cell_type": "markdown",
   "id": "56b95b2b",
   "metadata": {},
   "source": [
    "#### Code 2 floating-point variables and divide them by each other."
   ]
  },
  {
   "cell_type": "markdown",
   "id": "85441ac4",
   "metadata": {},
   "source": [
    "Way 1"
   ]
  },
  {
   "cell_type": "code",
   "execution_count": 13,
   "id": "b24134e4",
   "metadata": {},
   "outputs": [],
   "source": [
    "a=6.01"
   ]
  },
  {
   "cell_type": "code",
   "execution_count": 14,
   "id": "e20d0fdf",
   "metadata": {},
   "outputs": [],
   "source": [
    "b=4.1002"
   ]
  },
  {
   "cell_type": "code",
   "execution_count": 15,
   "id": "7953206c",
   "metadata": {},
   "outputs": [
    {
     "data": {
      "text/plain": [
       "1.4657821569679528"
      ]
     },
     "execution_count": 15,
     "metadata": {},
     "output_type": "execute_result"
    }
   ],
   "source": [
    "a/b"
   ]
  },
  {
   "cell_type": "markdown",
   "id": "c4a7929d",
   "metadata": {},
   "source": [
    "Way 2"
   ]
  },
  {
   "cell_type": "code",
   "execution_count": 16,
   "id": "26325994",
   "metadata": {},
   "outputs": [],
   "source": [
    "a=5.0000000002"
   ]
  },
  {
   "cell_type": "code",
   "execution_count": 17,
   "id": "2b5f4fe4",
   "metadata": {},
   "outputs": [],
   "source": [
    "b=1.6"
   ]
  },
  {
   "cell_type": "code",
   "execution_count": 18,
   "id": "f83a639e",
   "metadata": {},
   "outputs": [
    {
     "data": {
      "text/plain": [
       "3.125000000125"
      ]
     },
     "execution_count": 18,
     "metadata": {},
     "output_type": "execute_result"
    }
   ],
   "source": [
    "a/b"
   ]
  },
  {
   "cell_type": "markdown",
   "id": "537a60d0",
   "metadata": {},
   "source": [
    "### Question 9"
   ]
  },
  {
   "cell_type": "markdown",
   "id": "0dd3271c",
   "metadata": {},
   "source": [
    "#### Construct a short word made of separate strings (you’ll need to concatenate some strings!)."
   ]
  },
  {
   "cell_type": "markdown",
   "id": "4f0a15c1",
   "metadata": {},
   "source": [
    "I'm going to create the word 'food.'"
   ]
  },
  {
   "cell_type": "code",
   "execution_count": 19,
   "id": "04d5772e",
   "metadata": {},
   "outputs": [],
   "source": [
    "c='f'"
   ]
  },
  {
   "cell_type": "code",
   "execution_count": 20,
   "id": "d7ded501",
   "metadata": {},
   "outputs": [],
   "source": [
    "d='o'"
   ]
  },
  {
   "cell_type": "code",
   "execution_count": 21,
   "id": "720f2164",
   "metadata": {},
   "outputs": [],
   "source": [
    "e='o'"
   ]
  },
  {
   "cell_type": "code",
   "execution_count": 22,
   "id": "7072b5e3",
   "metadata": {},
   "outputs": [],
   "source": [
    "f='d'"
   ]
  },
  {
   "cell_type": "code",
   "execution_count": 23,
   "id": "eb3534cc",
   "metadata": {},
   "outputs": [
    {
     "data": {
      "text/plain": [
       "'food'"
      ]
     },
     "execution_count": 23,
     "metadata": {},
     "output_type": "execute_result"
    }
   ],
   "source": [
    "c+d+e+f"
   ]
  },
  {
   "cell_type": "markdown",
   "id": "dc58533a",
   "metadata": {},
   "source": [
    "### Question 10"
   ]
  },
  {
   "cell_type": "markdown",
   "id": "32c97e0a",
   "metadata": {},
   "source": [
    "#### Construct 2 short sentences made of separate strings."
   ]
  },
  {
   "cell_type": "markdown",
   "id": "55889bc7",
   "metadata": {},
   "source": [
    "I'm going to make 'Have a nice day. Eat lots of delicious food!'"
   ]
  },
  {
   "cell_type": "code",
   "execution_count": 24,
   "id": "6acd9018",
   "metadata": {},
   "outputs": [],
   "source": [
    "a='Have '"
   ]
  },
  {
   "cell_type": "code",
   "execution_count": 25,
   "id": "2018b985",
   "metadata": {},
   "outputs": [],
   "source": [
    "b='a '"
   ]
  },
  {
   "cell_type": "code",
   "execution_count": 26,
   "id": "e94696a8",
   "metadata": {},
   "outputs": [],
   "source": [
    "c='nice '"
   ]
  },
  {
   "cell_type": "code",
   "execution_count": 27,
   "id": "2cfa3a74",
   "metadata": {},
   "outputs": [],
   "source": [
    "d='day. '"
   ]
  },
  {
   "cell_type": "code",
   "execution_count": 28,
   "id": "e8820d1e",
   "metadata": {},
   "outputs": [],
   "source": [
    "e='Eat '"
   ]
  },
  {
   "cell_type": "code",
   "execution_count": 29,
   "id": "ddc9fe99",
   "metadata": {},
   "outputs": [],
   "source": [
    "f='lots '"
   ]
  },
  {
   "cell_type": "code",
   "execution_count": 30,
   "id": "d2a05e3c",
   "metadata": {},
   "outputs": [],
   "source": [
    "g='of '"
   ]
  },
  {
   "cell_type": "code",
   "execution_count": 31,
   "id": "0770bfcc",
   "metadata": {},
   "outputs": [],
   "source": [
    "h='delicious '"
   ]
  },
  {
   "cell_type": "code",
   "execution_count": 32,
   "id": "20fa8e73",
   "metadata": {},
   "outputs": [],
   "source": [
    "i='food!'"
   ]
  },
  {
   "cell_type": "code",
   "execution_count": 33,
   "id": "a4317ccb",
   "metadata": {},
   "outputs": [
    {
     "data": {
      "text/plain": [
       "'Have a nice day. Eat lots of delicious food!'"
      ]
     },
     "execution_count": 33,
     "metadata": {},
     "output_type": "execute_result"
    }
   ],
   "source": [
    "a+b+c+d+e+f+g+h+i"
   ]
  },
  {
   "cell_type": "markdown",
   "id": "96382863",
   "metadata": {},
   "source": [
    "### Bonus Task"
   ]
  },
  {
   "cell_type": "markdown",
   "id": "6579c32f",
   "metadata": {},
   "source": [
    "#### Include a command that makes a string appear 100 times."
   ]
  },
  {
   "cell_type": "code",
   "execution_count": 34,
   "id": "e5a44bdc",
   "metadata": {},
   "outputs": [],
   "source": [
    "n='Yay'"
   ]
  },
  {
   "cell_type": "code",
   "execution_count": 35,
   "id": "08c7c969",
   "metadata": {},
   "outputs": [
    {
     "data": {
      "text/plain": [
       "'YayYayYayYayYayYayYayYayYayYayYayYayYayYayYayYayYayYayYayYayYayYayYayYayYayYayYayYayYayYayYayYayYayYayYayYayYayYayYayYayYayYayYayYayYayYayYayYayYayYayYayYayYayYayYayYayYayYayYayYayYayYayYayYayYayYayYayYayYayYayYayYayYayYayYayYayYayYayYayYayYayYayYayYayYayYayYayYayYayYayYayYayYayYayYayYayYayYayYayYay'"
      ]
     },
     "execution_count": 35,
     "metadata": {},
     "output_type": "execute_result"
    }
   ],
   "source": [
    "n*100"
   ]
  }
 ],
 "metadata": {
  "kernelspec": {
   "display_name": "Python 3 (ipykernel)",
   "language": "python",
   "name": "python3"
  },
  "language_info": {
   "codemirror_mode": {
    "name": "ipython",
    "version": 3
   },
   "file_extension": ".py",
   "mimetype": "text/x-python",
   "name": "python",
   "nbconvert_exporter": "python",
   "pygments_lexer": "ipython3",
   "version": "3.11.4"
  }
 },
 "nbformat": 4,
 "nbformat_minor": 5
}
