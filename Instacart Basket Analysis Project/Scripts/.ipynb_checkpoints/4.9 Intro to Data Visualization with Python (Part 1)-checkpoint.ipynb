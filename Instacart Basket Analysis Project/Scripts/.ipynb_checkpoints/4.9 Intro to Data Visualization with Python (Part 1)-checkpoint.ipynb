{
 "cells": [
  {
   "cell_type": "markdown",
   "id": "22ce238e",
   "metadata": {},
   "source": [
    "# Table of Contents\n",
    "\n",
    "# Importing Libraries\n",
    "\n",
    "# Importing Files\n",
    "\n",
    "# Task Questions\n",
    "## - Step 4: Wrangle the Data\n",
    "## - Step 5: Data Quality and Consistency Check\n",
    "#### 1) Checking for mixed data type\n",
    "#### 2) Checking for missing values\n",
    "#### 3) Checking for duplicates\n",
    "## - Step 6: Combine the Datasets\n",
    "## - Step 8: Export Data"
   ]
  },
  {
   "cell_type": "markdown",
   "id": "425f3ba0",
   "metadata": {},
   "source": [
    "----"
   ]
  },
  {
   "cell_type": "markdown",
   "id": "931b314b",
   "metadata": {},
   "source": [
    "# Importing Libraries"
   ]
  },
  {
   "cell_type": "code",
   "execution_count": 1,
   "id": "ec8abda4",
   "metadata": {},
   "outputs": [],
   "source": [
    "# The analysis libraries\n",
    "\n",
    "import pandas as pd\n",
    "import numpy as np\n",
    "import os"
   ]
  },
  {
   "cell_type": "markdown",
   "id": "8423b6c8",
   "metadata": {},
   "source": [
    "# Importing Files"
   ]
  },
  {
   "cell_type": "code",
   "execution_count": 2,
   "id": "edc7cac4",
   "metadata": {},
   "outputs": [],
   "source": [
    "#path for instacart folder\n",
    "path=r'C:\\Users\\princess\\Documents\\09-2023 Instacart Basket Analysis'"
   ]
  },
  {
   "cell_type": "code",
   "execution_count": 3,
   "id": "5384414a",
   "metadata": {},
   "outputs": [],
   "source": [
    "# importing the new customer dataset\n",
    "\n",
    "df_cust=pd.read_csv(os.path.join(path, 'Data','Original Data','customers.csv'), index_col=False)"
   ]
  },
  {
   "cell_type": "code",
   "execution_count": 4,
   "id": "a7b85ac1",
   "metadata": {},
   "outputs": [],
   "source": [
    "#importing the pkl file into a dask dataframe\n",
    "ords_prods_merge = pd.read_pickle(os.path.join(path, 'Data', 'Prepared Data', 'orders_products_merged_updated_2.pkl'))"
   ]
  },
  {
   "cell_type": "markdown",
   "id": "703a4eed",
   "metadata": {},
   "source": [
    "----"
   ]
  },
  {
   "cell_type": "markdown",
   "id": "30f8e34e",
   "metadata": {},
   "source": [
    "# Task Questions"
   ]
  },
  {
   "cell_type": "markdown",
   "id": "4edf566f",
   "metadata": {},
   "source": [
    "# Step 4: Wrangle the Data"
   ]
  },
  {
   "cell_type": "markdown",
   "id": "0b4d8a9c",
   "metadata": {},
   "source": [
    "#### Wrangle the data so that it follows consistent logic; for example, rename columns with illogical names and drop columns that don’t add anything to your analysis."
   ]
  },
  {
   "cell_type": "code",
   "execution_count": 5,
   "id": "1cdaef45",
   "metadata": {},
   "outputs": [
    {
     "data": {
      "text/plain": [
       "(32404859, 24)"
      ]
     },
     "execution_count": 5,
     "metadata": {},
     "output_type": "execute_result"
    }
   ],
   "source": [
    "# checking the dimensions of the orders and products dataframe\n",
    "ords_prods_merge.shape"
   ]
  },
  {
   "cell_type": "code",
   "execution_count": 6,
   "id": "0e2fb618",
   "metadata": {},
   "outputs": [
    {
     "data": {
      "text/html": [
       "<div>\n",
       "<style scoped>\n",
       "    .dataframe tbody tr th:only-of-type {\n",
       "        vertical-align: middle;\n",
       "    }\n",
       "\n",
       "    .dataframe tbody tr th {\n",
       "        vertical-align: top;\n",
       "    }\n",
       "\n",
       "    .dataframe thead th {\n",
       "        text-align: right;\n",
       "    }\n",
       "</style>\n",
       "<table border=\"1\" class=\"dataframe\">\n",
       "  <thead>\n",
       "    <tr style=\"text-align: right;\">\n",
       "      <th></th>\n",
       "      <th>order_id</th>\n",
       "      <th>user_id</th>\n",
       "      <th>order_number</th>\n",
       "      <th>orders_day_of_week</th>\n",
       "      <th>order_hour_of_day</th>\n",
       "      <th>days_since_prior_order</th>\n",
       "      <th>product_id</th>\n",
       "      <th>add_to_cart_order</th>\n",
       "      <th>reordered</th>\n",
       "      <th>_merge</th>\n",
       "      <th>...</th>\n",
       "      <th>price_range</th>\n",
       "      <th>busiest_day</th>\n",
       "      <th>busiest_days</th>\n",
       "      <th>busiest_period_of_day</th>\n",
       "      <th>max_order</th>\n",
       "      <th>loyalty_flag</th>\n",
       "      <th>average_price</th>\n",
       "      <th>spending_flag</th>\n",
       "      <th>median_prior_orders</th>\n",
       "      <th>order_frequency_flag</th>\n",
       "    </tr>\n",
       "  </thead>\n",
       "  <tbody>\n",
       "    <tr>\n",
       "      <th>0</th>\n",
       "      <td>2539329</td>\n",
       "      <td>1</td>\n",
       "      <td>1</td>\n",
       "      <td>2</td>\n",
       "      <td>8</td>\n",
       "      <td>NaN</td>\n",
       "      <td>196</td>\n",
       "      <td>1</td>\n",
       "      <td>0</td>\n",
       "      <td>both</td>\n",
       "      <td>...</td>\n",
       "      <td>Mid-range product</td>\n",
       "      <td>Regularly busy</td>\n",
       "      <td>Regularly busy</td>\n",
       "      <td>Average orders</td>\n",
       "      <td>10</td>\n",
       "      <td>New customer</td>\n",
       "      <td>6.367797</td>\n",
       "      <td>Low spender</td>\n",
       "      <td>20.5</td>\n",
       "      <td>Frequent customer</td>\n",
       "    </tr>\n",
       "    <tr>\n",
       "      <th>1</th>\n",
       "      <td>2398795</td>\n",
       "      <td>1</td>\n",
       "      <td>2</td>\n",
       "      <td>3</td>\n",
       "      <td>7</td>\n",
       "      <td>15.0</td>\n",
       "      <td>196</td>\n",
       "      <td>1</td>\n",
       "      <td>1</td>\n",
       "      <td>both</td>\n",
       "      <td>...</td>\n",
       "      <td>Mid-range product</td>\n",
       "      <td>Regularly busy</td>\n",
       "      <td>Least busy days</td>\n",
       "      <td>Average orders</td>\n",
       "      <td>10</td>\n",
       "      <td>New customer</td>\n",
       "      <td>6.367797</td>\n",
       "      <td>Low spender</td>\n",
       "      <td>20.5</td>\n",
       "      <td>Frequent customer</td>\n",
       "    </tr>\n",
       "    <tr>\n",
       "      <th>2</th>\n",
       "      <td>473747</td>\n",
       "      <td>1</td>\n",
       "      <td>3</td>\n",
       "      <td>3</td>\n",
       "      <td>12</td>\n",
       "      <td>21.0</td>\n",
       "      <td>196</td>\n",
       "      <td>1</td>\n",
       "      <td>1</td>\n",
       "      <td>both</td>\n",
       "      <td>...</td>\n",
       "      <td>Mid-range product</td>\n",
       "      <td>Regularly busy</td>\n",
       "      <td>Least busy days</td>\n",
       "      <td>Most orders</td>\n",
       "      <td>10</td>\n",
       "      <td>New customer</td>\n",
       "      <td>6.367797</td>\n",
       "      <td>Low spender</td>\n",
       "      <td>20.5</td>\n",
       "      <td>Frequent customer</td>\n",
       "    </tr>\n",
       "    <tr>\n",
       "      <th>3</th>\n",
       "      <td>2254736</td>\n",
       "      <td>1</td>\n",
       "      <td>4</td>\n",
       "      <td>4</td>\n",
       "      <td>7</td>\n",
       "      <td>29.0</td>\n",
       "      <td>196</td>\n",
       "      <td>1</td>\n",
       "      <td>1</td>\n",
       "      <td>both</td>\n",
       "      <td>...</td>\n",
       "      <td>Mid-range product</td>\n",
       "      <td>Least busy</td>\n",
       "      <td>Least busy days</td>\n",
       "      <td>Average orders</td>\n",
       "      <td>10</td>\n",
       "      <td>New customer</td>\n",
       "      <td>6.367797</td>\n",
       "      <td>Low spender</td>\n",
       "      <td>20.5</td>\n",
       "      <td>Frequent customer</td>\n",
       "    </tr>\n",
       "    <tr>\n",
       "      <th>4</th>\n",
       "      <td>431534</td>\n",
       "      <td>1</td>\n",
       "      <td>5</td>\n",
       "      <td>4</td>\n",
       "      <td>15</td>\n",
       "      <td>28.0</td>\n",
       "      <td>196</td>\n",
       "      <td>1</td>\n",
       "      <td>1</td>\n",
       "      <td>both</td>\n",
       "      <td>...</td>\n",
       "      <td>Mid-range product</td>\n",
       "      <td>Least busy</td>\n",
       "      <td>Least busy days</td>\n",
       "      <td>Most orders</td>\n",
       "      <td>10</td>\n",
       "      <td>New customer</td>\n",
       "      <td>6.367797</td>\n",
       "      <td>Low spender</td>\n",
       "      <td>20.5</td>\n",
       "      <td>Frequent customer</td>\n",
       "    </tr>\n",
       "  </tbody>\n",
       "</table>\n",
       "<p>5 rows × 24 columns</p>\n",
       "</div>"
      ],
      "text/plain": [
       "   order_id  user_id  order_number  orders_day_of_week  order_hour_of_day  \\\n",
       "0   2539329        1             1                   2                  8   \n",
       "1   2398795        1             2                   3                  7   \n",
       "2    473747        1             3                   3                 12   \n",
       "3   2254736        1             4                   4                  7   \n",
       "4    431534        1             5                   4                 15   \n",
       "\n",
       "   days_since_prior_order  product_id  add_to_cart_order  reordered _merge  \\\n",
       "0                     NaN         196                  1          0   both   \n",
       "1                    15.0         196                  1          1   both   \n",
       "2                    21.0         196                  1          1   both   \n",
       "3                    29.0         196                  1          1   both   \n",
       "4                    28.0         196                  1          1   both   \n",
       "\n",
       "   ...        price_range     busiest_day     busiest_days  \\\n",
       "0  ...  Mid-range product  Regularly busy   Regularly busy   \n",
       "1  ...  Mid-range product  Regularly busy  Least busy days   \n",
       "2  ...  Mid-range product  Regularly busy  Least busy days   \n",
       "3  ...  Mid-range product      Least busy  Least busy days   \n",
       "4  ...  Mid-range product      Least busy  Least busy days   \n",
       "\n",
       "   busiest_period_of_day max_order  loyalty_flag average_price spending_flag  \\\n",
       "0         Average orders        10  New customer      6.367797   Low spender   \n",
       "1         Average orders        10  New customer      6.367797   Low spender   \n",
       "2            Most orders        10  New customer      6.367797   Low spender   \n",
       "3         Average orders        10  New customer      6.367797   Low spender   \n",
       "4            Most orders        10  New customer      6.367797   Low spender   \n",
       "\n",
       "   median_prior_orders order_frequency_flag  \n",
       "0                 20.5    Frequent customer  \n",
       "1                 20.5    Frequent customer  \n",
       "2                 20.5    Frequent customer  \n",
       "3                 20.5    Frequent customer  \n",
       "4                 20.5    Frequent customer  \n",
       "\n",
       "[5 rows x 24 columns]"
      ]
     },
     "execution_count": 6,
     "metadata": {},
     "output_type": "execute_result"
    }
   ],
   "source": [
    "ords_prods_merge.head()"
   ]
  },
  {
   "cell_type": "code",
   "execution_count": 7,
   "id": "3639f2e1",
   "metadata": {},
   "outputs": [
    {
     "name": "stdout",
     "output_type": "stream",
     "text": [
      "<class 'pandas.core.frame.DataFrame'>\n",
      "RangeIndex: 32404859 entries, 0 to 32404858\n",
      "Data columns (total 24 columns):\n",
      " #   Column                  Dtype   \n",
      "---  ------                  -----   \n",
      " 0   order_id                int64   \n",
      " 1   user_id                 int64   \n",
      " 2   order_number            int64   \n",
      " 3   orders_day_of_week      int64   \n",
      " 4   order_hour_of_day       int64   \n",
      " 5   days_since_prior_order  float64 \n",
      " 6   product_id              int64   \n",
      " 7   add_to_cart_order       int64   \n",
      " 8   reordered               int64   \n",
      " 9   _merge                  category\n",
      " 10  product_name            object  \n",
      " 11  aisle_id                int64   \n",
      " 12  department_id           int64   \n",
      " 13  prices                  float64 \n",
      " 14  price_range             object  \n",
      " 15  busiest_day             object  \n",
      " 16  busiest_days            object  \n",
      " 17  busiest_period_of_day   object  \n",
      " 18  max_order               int64   \n",
      " 19  loyalty_flag            object  \n",
      " 20  average_price           float64 \n",
      " 21  spending_flag           object  \n",
      " 22  median_prior_orders     float64 \n",
      " 23  order_frequency_flag    object  \n",
      "dtypes: category(1), float64(4), int64(11), object(8)\n",
      "memory usage: 5.6+ GB\n"
     ]
    }
   ],
   "source": [
    "ords_prods_merge.info()"
   ]
  },
  {
   "cell_type": "code",
   "execution_count": 8,
   "id": "039e10d3",
   "metadata": {},
   "outputs": [],
   "source": [
    "# I'm going to delete some columns that are not required for the analysis, just so the dataframe size is reduced.\n",
    "\n",
    "ords_prods_merge.drop(columns=['_merge','busiest_day','average_price','median_prior_orders','aisle_id','busiest_period_of_day'],inplace=True)"
   ]
  },
  {
   "cell_type": "code",
   "execution_count": 9,
   "id": "5410d6ae",
   "metadata": {},
   "outputs": [
    {
     "data": {
      "text/html": [
       "<div>\n",
       "<style scoped>\n",
       "    .dataframe tbody tr th:only-of-type {\n",
       "        vertical-align: middle;\n",
       "    }\n",
       "\n",
       "    .dataframe tbody tr th {\n",
       "        vertical-align: top;\n",
       "    }\n",
       "\n",
       "    .dataframe thead th {\n",
       "        text-align: right;\n",
       "    }\n",
       "</style>\n",
       "<table border=\"1\" class=\"dataframe\">\n",
       "  <thead>\n",
       "    <tr style=\"text-align: right;\">\n",
       "      <th></th>\n",
       "      <th>order_id</th>\n",
       "      <th>user_id</th>\n",
       "      <th>order_number</th>\n",
       "      <th>orders_day_of_week</th>\n",
       "      <th>order_hour_of_day</th>\n",
       "      <th>days_since_prior_order</th>\n",
       "      <th>product_id</th>\n",
       "      <th>add_to_cart_order</th>\n",
       "      <th>reordered</th>\n",
       "      <th>product_name</th>\n",
       "      <th>department_id</th>\n",
       "      <th>prices</th>\n",
       "      <th>price_range</th>\n",
       "      <th>busiest_days</th>\n",
       "      <th>max_order</th>\n",
       "      <th>loyalty_flag</th>\n",
       "      <th>spending_flag</th>\n",
       "      <th>order_frequency_flag</th>\n",
       "    </tr>\n",
       "  </thead>\n",
       "  <tbody>\n",
       "    <tr>\n",
       "      <th>0</th>\n",
       "      <td>2539329</td>\n",
       "      <td>1</td>\n",
       "      <td>1</td>\n",
       "      <td>2</td>\n",
       "      <td>8</td>\n",
       "      <td>NaN</td>\n",
       "      <td>196</td>\n",
       "      <td>1</td>\n",
       "      <td>0</td>\n",
       "      <td>Soda</td>\n",
       "      <td>7</td>\n",
       "      <td>9.0</td>\n",
       "      <td>Mid-range product</td>\n",
       "      <td>Regularly busy</td>\n",
       "      <td>10</td>\n",
       "      <td>New customer</td>\n",
       "      <td>Low spender</td>\n",
       "      <td>Frequent customer</td>\n",
       "    </tr>\n",
       "    <tr>\n",
       "      <th>1</th>\n",
       "      <td>2398795</td>\n",
       "      <td>1</td>\n",
       "      <td>2</td>\n",
       "      <td>3</td>\n",
       "      <td>7</td>\n",
       "      <td>15.0</td>\n",
       "      <td>196</td>\n",
       "      <td>1</td>\n",
       "      <td>1</td>\n",
       "      <td>Soda</td>\n",
       "      <td>7</td>\n",
       "      <td>9.0</td>\n",
       "      <td>Mid-range product</td>\n",
       "      <td>Least busy days</td>\n",
       "      <td>10</td>\n",
       "      <td>New customer</td>\n",
       "      <td>Low spender</td>\n",
       "      <td>Frequent customer</td>\n",
       "    </tr>\n",
       "    <tr>\n",
       "      <th>2</th>\n",
       "      <td>473747</td>\n",
       "      <td>1</td>\n",
       "      <td>3</td>\n",
       "      <td>3</td>\n",
       "      <td>12</td>\n",
       "      <td>21.0</td>\n",
       "      <td>196</td>\n",
       "      <td>1</td>\n",
       "      <td>1</td>\n",
       "      <td>Soda</td>\n",
       "      <td>7</td>\n",
       "      <td>9.0</td>\n",
       "      <td>Mid-range product</td>\n",
       "      <td>Least busy days</td>\n",
       "      <td>10</td>\n",
       "      <td>New customer</td>\n",
       "      <td>Low spender</td>\n",
       "      <td>Frequent customer</td>\n",
       "    </tr>\n",
       "    <tr>\n",
       "      <th>3</th>\n",
       "      <td>2254736</td>\n",
       "      <td>1</td>\n",
       "      <td>4</td>\n",
       "      <td>4</td>\n",
       "      <td>7</td>\n",
       "      <td>29.0</td>\n",
       "      <td>196</td>\n",
       "      <td>1</td>\n",
       "      <td>1</td>\n",
       "      <td>Soda</td>\n",
       "      <td>7</td>\n",
       "      <td>9.0</td>\n",
       "      <td>Mid-range product</td>\n",
       "      <td>Least busy days</td>\n",
       "      <td>10</td>\n",
       "      <td>New customer</td>\n",
       "      <td>Low spender</td>\n",
       "      <td>Frequent customer</td>\n",
       "    </tr>\n",
       "    <tr>\n",
       "      <th>4</th>\n",
       "      <td>431534</td>\n",
       "      <td>1</td>\n",
       "      <td>5</td>\n",
       "      <td>4</td>\n",
       "      <td>15</td>\n",
       "      <td>28.0</td>\n",
       "      <td>196</td>\n",
       "      <td>1</td>\n",
       "      <td>1</td>\n",
       "      <td>Soda</td>\n",
       "      <td>7</td>\n",
       "      <td>9.0</td>\n",
       "      <td>Mid-range product</td>\n",
       "      <td>Least busy days</td>\n",
       "      <td>10</td>\n",
       "      <td>New customer</td>\n",
       "      <td>Low spender</td>\n",
       "      <td>Frequent customer</td>\n",
       "    </tr>\n",
       "  </tbody>\n",
       "</table>\n",
       "</div>"
      ],
      "text/plain": [
       "   order_id  user_id  order_number  orders_day_of_week  order_hour_of_day  \\\n",
       "0   2539329        1             1                   2                  8   \n",
       "1   2398795        1             2                   3                  7   \n",
       "2    473747        1             3                   3                 12   \n",
       "3   2254736        1             4                   4                  7   \n",
       "4    431534        1             5                   4                 15   \n",
       "\n",
       "   days_since_prior_order  product_id  add_to_cart_order  reordered  \\\n",
       "0                     NaN         196                  1          0   \n",
       "1                    15.0         196                  1          1   \n",
       "2                    21.0         196                  1          1   \n",
       "3                    29.0         196                  1          1   \n",
       "4                    28.0         196                  1          1   \n",
       "\n",
       "  product_name  department_id  prices        price_range     busiest_days  \\\n",
       "0         Soda              7     9.0  Mid-range product   Regularly busy   \n",
       "1         Soda              7     9.0  Mid-range product  Least busy days   \n",
       "2         Soda              7     9.0  Mid-range product  Least busy days   \n",
       "3         Soda              7     9.0  Mid-range product  Least busy days   \n",
       "4         Soda              7     9.0  Mid-range product  Least busy days   \n",
       "\n",
       "   max_order  loyalty_flag spending_flag order_frequency_flag  \n",
       "0         10  New customer   Low spender    Frequent customer  \n",
       "1         10  New customer   Low spender    Frequent customer  \n",
       "2         10  New customer   Low spender    Frequent customer  \n",
       "3         10  New customer   Low spender    Frequent customer  \n",
       "4         10  New customer   Low spender    Frequent customer  "
      ]
     },
     "execution_count": 9,
     "metadata": {},
     "output_type": "execute_result"
    }
   ],
   "source": [
    "#check to see if it worked\n",
    "ords_prods_merge.head()"
   ]
  },
  {
   "cell_type": "code",
   "execution_count": 10,
   "id": "8be8177f",
   "metadata": {},
   "outputs": [
    {
     "name": "stdout",
     "output_type": "stream",
     "text": [
      "<class 'pandas.core.frame.DataFrame'>\n",
      "RangeIndex: 32404859 entries, 0 to 32404858\n",
      "Data columns (total 18 columns):\n",
      " #   Column                  Dtype  \n",
      "---  ------                  -----  \n",
      " 0   order_id                int64  \n",
      " 1   user_id                 int64  \n",
      " 2   order_number            int64  \n",
      " 3   orders_day_of_week      int64  \n",
      " 4   order_hour_of_day       int64  \n",
      " 5   days_since_prior_order  float64\n",
      " 6   product_id              int64  \n",
      " 7   add_to_cart_order       int64  \n",
      " 8   reordered               int64  \n",
      " 9   product_name            object \n",
      " 10  department_id           int64  \n",
      " 11  prices                  float64\n",
      " 12  price_range             object \n",
      " 13  busiest_days            object \n",
      " 14  max_order               int64  \n",
      " 15  loyalty_flag            object \n",
      " 16  spending_flag           object \n",
      " 17  order_frequency_flag    object \n",
      "dtypes: float64(2), int64(10), object(6)\n",
      "memory usage: 4.3+ GB\n"
     ]
    }
   ],
   "source": [
    "ords_prods_merge.info()"
   ]
  },
  {
   "cell_type": "code",
   "execution_count": 11,
   "id": "8f562732",
   "metadata": {},
   "outputs": [],
   "source": [
    "# Change types for ords_prods_merge data set to save memory since memory error keeps occuring when merging datasets\n",
    "\n",
    "# List of column names to convert to category\n",
    "\n",
    "category_columns = ['product_name', 'price_range', 'busiest_days', 'loyalty_flag', 'spending_flag', 'order_frequency_flag']"
   ]
  },
  {
   "cell_type": "code",
   "execution_count": 12,
   "id": "8e463778",
   "metadata": {},
   "outputs": [],
   "source": [
    "# Convert selected object columns to category data type\n",
    "for column in category_columns:\n",
    "    ords_prods_merge[column] = ords_prods_merge[column].astype('category')"
   ]
  },
  {
   "cell_type": "code",
   "execution_count": 13,
   "id": "91a66b4f",
   "metadata": {},
   "outputs": [],
   "source": [
    "# Define a list of columns to downcast to 'float' or 'integer' to save memory as well\n",
    "\n",
    "opm_float_columns = ['days_since_prior_order', 'prices']\n",
    "opm_int_columns = ['order_id', 'user_id', 'order_number', 'orders_day_of_week',\n",
    "               'order_hour_of_day', 'product_id', 'add_to_cart_order',\n",
    "               'reordered', 'department_id', 'max_order']"
   ]
  },
  {
   "cell_type": "code",
   "execution_count": 14,
   "id": "5297e878",
   "metadata": {},
   "outputs": [],
   "source": [
    "# Apply the downcasting loop to relevant columns in the ords_prods_merge dataFrame\n",
    "for column in opm_float_columns:\n",
    "    if ords_prods_merge[column].dtype == 'float64':\n",
    "        ords_prods_merge[column] = pd.to_numeric(ords_prods_merge[column], downcast='float')\n",
    "\n",
    "for column in opm_int_columns:\n",
    "    if ords_prods_merge[column].dtype == 'int64':\n",
    "        ords_prods_merge[column] = pd.to_numeric(ords_prods_merge[column], downcast='integer')"
   ]
  },
  {
   "cell_type": "code",
   "execution_count": 15,
   "id": "255dc100",
   "metadata": {},
   "outputs": [
    {
     "name": "stdout",
     "output_type": "stream",
     "text": [
      "<class 'pandas.core.frame.DataFrame'>\n",
      "RangeIndex: 32404859 entries, 0 to 32404858\n",
      "Data columns (total 18 columns):\n",
      " #   Column                  Dtype   \n",
      "---  ------                  -----   \n",
      " 0   order_id                int32   \n",
      " 1   user_id                 int32   \n",
      " 2   order_number            int8    \n",
      " 3   orders_day_of_week      int8    \n",
      " 4   order_hour_of_day       int8    \n",
      " 5   days_since_prior_order  float32 \n",
      " 6   product_id              int32   \n",
      " 7   add_to_cart_order       int16   \n",
      " 8   reordered               int8    \n",
      " 9   product_name            category\n",
      " 10  department_id           int8    \n",
      " 11  prices                  float32 \n",
      " 12  price_range             category\n",
      " 13  busiest_days            category\n",
      " 14  max_order               int8    \n",
      " 15  loyalty_flag            category\n",
      " 16  spending_flag           category\n",
      " 17  order_frequency_flag    category\n",
      "dtypes: category(6), float32(2), int16(1), int32(3), int8(6)\n",
      "memory usage: 1.1 GB\n"
     ]
    }
   ],
   "source": [
    "ords_prods_merge.info()"
   ]
  },
  {
   "cell_type": "code",
   "execution_count": 16,
   "id": "91a06f30",
   "metadata": {},
   "outputs": [
    {
     "data": {
      "text/plain": [
       "(206209, 10)"
      ]
     },
     "execution_count": 16,
     "metadata": {},
     "output_type": "execute_result"
    }
   ],
   "source": [
    "# checking the dimensions of the customers dataframe\n",
    "df_cust.shape"
   ]
  },
  {
   "cell_type": "code",
   "execution_count": 17,
   "id": "0b717370",
   "metadata": {},
   "outputs": [
    {
     "data": {
      "text/html": [
       "<div>\n",
       "<style scoped>\n",
       "    .dataframe tbody tr th:only-of-type {\n",
       "        vertical-align: middle;\n",
       "    }\n",
       "\n",
       "    .dataframe tbody tr th {\n",
       "        vertical-align: top;\n",
       "    }\n",
       "\n",
       "    .dataframe thead th {\n",
       "        text-align: right;\n",
       "    }\n",
       "</style>\n",
       "<table border=\"1\" class=\"dataframe\">\n",
       "  <thead>\n",
       "    <tr style=\"text-align: right;\">\n",
       "      <th></th>\n",
       "      <th>user_id</th>\n",
       "      <th>First Name</th>\n",
       "      <th>Surnam</th>\n",
       "      <th>Gender</th>\n",
       "      <th>STATE</th>\n",
       "      <th>Age</th>\n",
       "      <th>date_joined</th>\n",
       "      <th>n_dependants</th>\n",
       "      <th>fam_status</th>\n",
       "      <th>income</th>\n",
       "    </tr>\n",
       "  </thead>\n",
       "  <tbody>\n",
       "    <tr>\n",
       "      <th>0</th>\n",
       "      <td>26711</td>\n",
       "      <td>Deborah</td>\n",
       "      <td>Esquivel</td>\n",
       "      <td>Female</td>\n",
       "      <td>Missouri</td>\n",
       "      <td>48</td>\n",
       "      <td>1/1/2017</td>\n",
       "      <td>3</td>\n",
       "      <td>married</td>\n",
       "      <td>165665</td>\n",
       "    </tr>\n",
       "    <tr>\n",
       "      <th>1</th>\n",
       "      <td>33890</td>\n",
       "      <td>Patricia</td>\n",
       "      <td>Hart</td>\n",
       "      <td>Female</td>\n",
       "      <td>New Mexico</td>\n",
       "      <td>36</td>\n",
       "      <td>1/1/2017</td>\n",
       "      <td>0</td>\n",
       "      <td>single</td>\n",
       "      <td>59285</td>\n",
       "    </tr>\n",
       "    <tr>\n",
       "      <th>2</th>\n",
       "      <td>65803</td>\n",
       "      <td>Kenneth</td>\n",
       "      <td>Farley</td>\n",
       "      <td>Male</td>\n",
       "      <td>Idaho</td>\n",
       "      <td>35</td>\n",
       "      <td>1/1/2017</td>\n",
       "      <td>2</td>\n",
       "      <td>married</td>\n",
       "      <td>99568</td>\n",
       "    </tr>\n",
       "    <tr>\n",
       "      <th>3</th>\n",
       "      <td>125935</td>\n",
       "      <td>Michelle</td>\n",
       "      <td>Hicks</td>\n",
       "      <td>Female</td>\n",
       "      <td>Iowa</td>\n",
       "      <td>40</td>\n",
       "      <td>1/1/2017</td>\n",
       "      <td>0</td>\n",
       "      <td>single</td>\n",
       "      <td>42049</td>\n",
       "    </tr>\n",
       "    <tr>\n",
       "      <th>4</th>\n",
       "      <td>130797</td>\n",
       "      <td>Ann</td>\n",
       "      <td>Gilmore</td>\n",
       "      <td>Female</td>\n",
       "      <td>Maryland</td>\n",
       "      <td>26</td>\n",
       "      <td>1/1/2017</td>\n",
       "      <td>1</td>\n",
       "      <td>married</td>\n",
       "      <td>40374</td>\n",
       "    </tr>\n",
       "  </tbody>\n",
       "</table>\n",
       "</div>"
      ],
      "text/plain": [
       "   user_id First Name    Surnam  Gender       STATE  Age date_joined  \\\n",
       "0    26711    Deborah  Esquivel  Female    Missouri   48    1/1/2017   \n",
       "1    33890   Patricia      Hart  Female  New Mexico   36    1/1/2017   \n",
       "2    65803    Kenneth    Farley    Male       Idaho   35    1/1/2017   \n",
       "3   125935   Michelle     Hicks  Female        Iowa   40    1/1/2017   \n",
       "4   130797        Ann   Gilmore  Female    Maryland   26    1/1/2017   \n",
       "\n",
       "   n_dependants fam_status  income  \n",
       "0             3    married  165665  \n",
       "1             0     single   59285  \n",
       "2             2    married   99568  \n",
       "3             0     single   42049  \n",
       "4             1    married   40374  "
      ]
     },
     "execution_count": 17,
     "metadata": {},
     "output_type": "execute_result"
    }
   ],
   "source": [
    "# checking the headings of the customers dataframe\n",
    "df_cust.head()"
   ]
  },
  {
   "cell_type": "markdown",
   "id": "14d6bb77",
   "metadata": {},
   "source": [
    "### At First Glance:\n",
    "\n",
    "- Surnam needs to be renamed to 'surname'\n",
    "- First Name needs to be renamed to 'first_name'\n",
    "- Gender needs to be renamed to 'gender'\n",
    "- STATE needs to be renamed to 'state'\n",
    "- Age needs to be renamed to 'age'\n",
    "- n_dependents needs to be renamed to 'number_of_dependents'\n",
    "- fame_status needs to be renamed to 'martial_status'\n",
    "- drop n_dependants as it is not going to add anything for analysis?? \n",
    "- user_id can be used to join with ords_prods_merge dataframe"
   ]
  },
  {
   "cell_type": "code",
   "execution_count": 18,
   "id": "1ddfa582",
   "metadata": {},
   "outputs": [
    {
     "data": {
      "text/html": [
       "<div>\n",
       "<style scoped>\n",
       "    .dataframe tbody tr th:only-of-type {\n",
       "        vertical-align: middle;\n",
       "    }\n",
       "\n",
       "    .dataframe tbody tr th {\n",
       "        vertical-align: top;\n",
       "    }\n",
       "\n",
       "    .dataframe thead th {\n",
       "        text-align: right;\n",
       "    }\n",
       "</style>\n",
       "<table border=\"1\" class=\"dataframe\">\n",
       "  <thead>\n",
       "    <tr style=\"text-align: right;\">\n",
       "      <th></th>\n",
       "      <th>user_id</th>\n",
       "      <th>Age</th>\n",
       "      <th>n_dependants</th>\n",
       "      <th>income</th>\n",
       "    </tr>\n",
       "  </thead>\n",
       "  <tbody>\n",
       "    <tr>\n",
       "      <th>count</th>\n",
       "      <td>206209.000000</td>\n",
       "      <td>206209.000000</td>\n",
       "      <td>206209.000000</td>\n",
       "      <td>206209.000000</td>\n",
       "    </tr>\n",
       "    <tr>\n",
       "      <th>mean</th>\n",
       "      <td>103105.000000</td>\n",
       "      <td>49.501646</td>\n",
       "      <td>1.499823</td>\n",
       "      <td>94632.852548</td>\n",
       "    </tr>\n",
       "    <tr>\n",
       "      <th>std</th>\n",
       "      <td>59527.555167</td>\n",
       "      <td>18.480962</td>\n",
       "      <td>1.118433</td>\n",
       "      <td>42473.786988</td>\n",
       "    </tr>\n",
       "    <tr>\n",
       "      <th>min</th>\n",
       "      <td>1.000000</td>\n",
       "      <td>18.000000</td>\n",
       "      <td>0.000000</td>\n",
       "      <td>25903.000000</td>\n",
       "    </tr>\n",
       "    <tr>\n",
       "      <th>25%</th>\n",
       "      <td>51553.000000</td>\n",
       "      <td>33.000000</td>\n",
       "      <td>0.000000</td>\n",
       "      <td>59874.000000</td>\n",
       "    </tr>\n",
       "    <tr>\n",
       "      <th>50%</th>\n",
       "      <td>103105.000000</td>\n",
       "      <td>49.000000</td>\n",
       "      <td>1.000000</td>\n",
       "      <td>93547.000000</td>\n",
       "    </tr>\n",
       "    <tr>\n",
       "      <th>75%</th>\n",
       "      <td>154657.000000</td>\n",
       "      <td>66.000000</td>\n",
       "      <td>3.000000</td>\n",
       "      <td>124244.000000</td>\n",
       "    </tr>\n",
       "    <tr>\n",
       "      <th>max</th>\n",
       "      <td>206209.000000</td>\n",
       "      <td>81.000000</td>\n",
       "      <td>3.000000</td>\n",
       "      <td>593901.000000</td>\n",
       "    </tr>\n",
       "  </tbody>\n",
       "</table>\n",
       "</div>"
      ],
      "text/plain": [
       "             user_id            Age   n_dependants         income\n",
       "count  206209.000000  206209.000000  206209.000000  206209.000000\n",
       "mean   103105.000000      49.501646       1.499823   94632.852548\n",
       "std     59527.555167      18.480962       1.118433   42473.786988\n",
       "min         1.000000      18.000000       0.000000   25903.000000\n",
       "25%     51553.000000      33.000000       0.000000   59874.000000\n",
       "50%    103105.000000      49.000000       1.000000   93547.000000\n",
       "75%    154657.000000      66.000000       3.000000  124244.000000\n",
       "max    206209.000000      81.000000       3.000000  593901.000000"
      ]
     },
     "execution_count": 18,
     "metadata": {},
     "output_type": "execute_result"
    }
   ],
   "source": [
    "# getting the statistical values of the numerical values of the chart. \n",
    "df_cust.describe()"
   ]
  },
  {
   "cell_type": "markdown",
   "id": "a24fa590",
   "metadata": {},
   "source": [
    "The age, user_id, and dependents are getting counted as a numerical value, so I will need to change them to be non-numerical value columns."
   ]
  },
  {
   "cell_type": "markdown",
   "id": "e0e0c9d0",
   "metadata": {},
   "source": [
    "#### Renaming Columns"
   ]
  },
  {
   "cell_type": "markdown",
   "id": "0be434da",
   "metadata": {},
   "source": [
    "This step is to ensure all the headings look the same."
   ]
  },
  {
   "cell_type": "code",
   "execution_count": 19,
   "id": "26aa2042",
   "metadata": {},
   "outputs": [],
   "source": [
    "#renaming columns\n",
    "df_cust.rename(columns = {'First Name' : 'first_name'},\n",
    "                inplace = True\n",
    "               )\n",
    "df_cust.rename(columns = {'Surnam' : 'surname'},\n",
    "                inplace = True\n",
    "               )\n",
    "df_cust.rename(columns = {'Gender' : 'gender'},\n",
    "                inplace = True\n",
    "               )\n",
    "df_cust.rename(columns = {'Age' : 'age'},\n",
    "                inplace = True\n",
    "               )\n",
    "df_cust.rename(columns = {'STATE' : 'state'},\n",
    "                inplace = True\n",
    "               )\n",
    "df_cust.rename(columns = {'n_dependants' : 'number_of_dependants'}, \n",
    "               inplace = True\n",
    "              )\n",
    "df_cust.rename(columns = {'fam_status' : 'marital_status'}, \n",
    "               inplace = True\n",
    "              )"
   ]
  },
  {
   "cell_type": "code",
   "execution_count": 20,
   "id": "9aeac3cc",
   "metadata": {},
   "outputs": [
    {
     "data": {
      "text/html": [
       "<div>\n",
       "<style scoped>\n",
       "    .dataframe tbody tr th:only-of-type {\n",
       "        vertical-align: middle;\n",
       "    }\n",
       "\n",
       "    .dataframe tbody tr th {\n",
       "        vertical-align: top;\n",
       "    }\n",
       "\n",
       "    .dataframe thead th {\n",
       "        text-align: right;\n",
       "    }\n",
       "</style>\n",
       "<table border=\"1\" class=\"dataframe\">\n",
       "  <thead>\n",
       "    <tr style=\"text-align: right;\">\n",
       "      <th></th>\n",
       "      <th>user_id</th>\n",
       "      <th>first_name</th>\n",
       "      <th>surname</th>\n",
       "      <th>gender</th>\n",
       "      <th>state</th>\n",
       "      <th>age</th>\n",
       "      <th>date_joined</th>\n",
       "      <th>number_of_dependants</th>\n",
       "      <th>marital_status</th>\n",
       "      <th>income</th>\n",
       "    </tr>\n",
       "  </thead>\n",
       "  <tbody>\n",
       "    <tr>\n",
       "      <th>0</th>\n",
       "      <td>26711</td>\n",
       "      <td>Deborah</td>\n",
       "      <td>Esquivel</td>\n",
       "      <td>Female</td>\n",
       "      <td>Missouri</td>\n",
       "      <td>48</td>\n",
       "      <td>1/1/2017</td>\n",
       "      <td>3</td>\n",
       "      <td>married</td>\n",
       "      <td>165665</td>\n",
       "    </tr>\n",
       "    <tr>\n",
       "      <th>1</th>\n",
       "      <td>33890</td>\n",
       "      <td>Patricia</td>\n",
       "      <td>Hart</td>\n",
       "      <td>Female</td>\n",
       "      <td>New Mexico</td>\n",
       "      <td>36</td>\n",
       "      <td>1/1/2017</td>\n",
       "      <td>0</td>\n",
       "      <td>single</td>\n",
       "      <td>59285</td>\n",
       "    </tr>\n",
       "    <tr>\n",
       "      <th>2</th>\n",
       "      <td>65803</td>\n",
       "      <td>Kenneth</td>\n",
       "      <td>Farley</td>\n",
       "      <td>Male</td>\n",
       "      <td>Idaho</td>\n",
       "      <td>35</td>\n",
       "      <td>1/1/2017</td>\n",
       "      <td>2</td>\n",
       "      <td>married</td>\n",
       "      <td>99568</td>\n",
       "    </tr>\n",
       "    <tr>\n",
       "      <th>3</th>\n",
       "      <td>125935</td>\n",
       "      <td>Michelle</td>\n",
       "      <td>Hicks</td>\n",
       "      <td>Female</td>\n",
       "      <td>Iowa</td>\n",
       "      <td>40</td>\n",
       "      <td>1/1/2017</td>\n",
       "      <td>0</td>\n",
       "      <td>single</td>\n",
       "      <td>42049</td>\n",
       "    </tr>\n",
       "    <tr>\n",
       "      <th>4</th>\n",
       "      <td>130797</td>\n",
       "      <td>Ann</td>\n",
       "      <td>Gilmore</td>\n",
       "      <td>Female</td>\n",
       "      <td>Maryland</td>\n",
       "      <td>26</td>\n",
       "      <td>1/1/2017</td>\n",
       "      <td>1</td>\n",
       "      <td>married</td>\n",
       "      <td>40374</td>\n",
       "    </tr>\n",
       "  </tbody>\n",
       "</table>\n",
       "</div>"
      ],
      "text/plain": [
       "   user_id first_name   surname  gender       state  age date_joined  \\\n",
       "0    26711    Deborah  Esquivel  Female    Missouri   48    1/1/2017   \n",
       "1    33890   Patricia      Hart  Female  New Mexico   36    1/1/2017   \n",
       "2    65803    Kenneth    Farley    Male       Idaho   35    1/1/2017   \n",
       "3   125935   Michelle     Hicks  Female        Iowa   40    1/1/2017   \n",
       "4   130797        Ann   Gilmore  Female    Maryland   26    1/1/2017   \n",
       "\n",
       "   number_of_dependants marital_status  income  \n",
       "0                     3        married  165665  \n",
       "1                     0         single   59285  \n",
       "2                     2        married   99568  \n",
       "3                     0         single   42049  \n",
       "4                     1        married   40374  "
      ]
     },
     "execution_count": 20,
     "metadata": {},
     "output_type": "execute_result"
    }
   ],
   "source": [
    "df_cust.head()"
   ]
  },
  {
   "cell_type": "code",
   "execution_count": 21,
   "id": "34be276a",
   "metadata": {},
   "outputs": [
    {
     "name": "stdout",
     "output_type": "stream",
     "text": [
      "<class 'pandas.core.frame.DataFrame'>\n",
      "RangeIndex: 206209 entries, 0 to 206208\n",
      "Data columns (total 10 columns):\n",
      " #   Column                Non-Null Count   Dtype \n",
      "---  ------                --------------   ----- \n",
      " 0   user_id               206209 non-null  int64 \n",
      " 1   first_name            194950 non-null  object\n",
      " 2   surname               206209 non-null  object\n",
      " 3   gender                206209 non-null  object\n",
      " 4   state                 206209 non-null  object\n",
      " 5   age                   206209 non-null  int64 \n",
      " 6   date_joined           206209 non-null  object\n",
      " 7   number_of_dependants  206209 non-null  int64 \n",
      " 8   marital_status        206209 non-null  object\n",
      " 9   income                206209 non-null  int64 \n",
      "dtypes: int64(4), object(6)\n",
      "memory usage: 15.7+ MB\n"
     ]
    }
   ],
   "source": [
    "df_cust.info()"
   ]
  },
  {
   "cell_type": "code",
   "execution_count": 22,
   "id": "4c150350",
   "metadata": {},
   "outputs": [],
   "source": [
    "# Change types for ords_prods_merge data set to save memory since memory error keeps occuring when merging datasets\n",
    "\n",
    "# List of column names to convert to category\n",
    "\n",
    "cust_category_columns = ['first_name', 'surname','gender', 'state', 'date_joined', 'marital_status']"
   ]
  },
  {
   "cell_type": "code",
   "execution_count": 23,
   "id": "33ba67b9",
   "metadata": {},
   "outputs": [],
   "source": [
    "# Convert selected object columns to category data type\n",
    "\n",
    "for column in cust_category_columns:\n",
    "    df_cust[column] = df_cust[column].astype('category')"
   ]
  },
  {
   "cell_type": "code",
   "execution_count": 24,
   "id": "e1acba88",
   "metadata": {},
   "outputs": [],
   "source": [
    "# Define a list of columns to downcast to 'float' or 'integer' to save memory as well\n",
    "\n",
    "cust_int_columns = ['user_id', 'age', 'number_of_dependants', 'income']"
   ]
  },
  {
   "cell_type": "code",
   "execution_count": 25,
   "id": "1c410ab6",
   "metadata": {},
   "outputs": [],
   "source": [
    "# Apply the downcasting loop to relevant columns in the df_cust dataframe\n",
    "\n",
    "for column in cust_int_columns:\n",
    "    if df_cust[column].dtype == 'int64':\n",
    "        df_cust[column] = pd.to_numeric(df_cust[column], downcast='integer')"
   ]
  },
  {
   "cell_type": "code",
   "execution_count": 26,
   "id": "03b9c93c",
   "metadata": {},
   "outputs": [
    {
     "name": "stdout",
     "output_type": "stream",
     "text": [
      "<class 'pandas.core.frame.DataFrame'>\n",
      "RangeIndex: 206209 entries, 0 to 206208\n",
      "Data columns (total 10 columns):\n",
      " #   Column                Non-Null Count   Dtype   \n",
      "---  ------                --------------   -----   \n",
      " 0   user_id               206209 non-null  int32   \n",
      " 1   first_name            194950 non-null  category\n",
      " 2   surname               206209 non-null  category\n",
      " 3   gender                206209 non-null  category\n",
      " 4   state                 206209 non-null  category\n",
      " 5   age                   206209 non-null  int8    \n",
      " 6   date_joined           206209 non-null  category\n",
      " 7   number_of_dependants  206209 non-null  int8    \n",
      " 8   marital_status        206209 non-null  category\n",
      " 9   income                206209 non-null  int32   \n",
      "dtypes: category(6), int32(2), int8(2)\n",
      "memory usage: 3.8 MB\n"
     ]
    }
   ],
   "source": [
    "df_cust.info()"
   ]
  },
  {
   "cell_type": "markdown",
   "id": "7fcfdf30",
   "metadata": {},
   "source": [
    "# Step 5: Data Quality and Consistency Check"
   ]
  },
  {
   "cell_type": "markdown",
   "id": "740a2c5d",
   "metadata": {},
   "source": [
    "#### Complete the fundamental data quality and consistency checks you’ve learned throughout this Achievement; for example, check for and address missing values and duplicates, and convert any mixed-type data."
   ]
  },
  {
   "cell_type": "markdown",
   "id": "dbb603ed",
   "metadata": {},
   "source": [
    "1) Checking for mixed data type\n",
    "2) Checking for missing values\n",
    "3) Checking for duplicates"
   ]
  },
  {
   "cell_type": "markdown",
   "id": "631e1d65",
   "metadata": {},
   "source": [
    "#### 1. Checking for Mixed Data Types"
   ]
  },
  {
   "cell_type": "code",
   "execution_count": 27,
   "id": "0cf3d8c9",
   "metadata": {},
   "outputs": [
    {
     "name": "stdout",
     "output_type": "stream",
     "text": [
      "<class 'pandas.core.frame.DataFrame'>\n",
      "RangeIndex: 206209 entries, 0 to 206208\n",
      "Data columns (total 10 columns):\n",
      " #   Column                Non-Null Count   Dtype   \n",
      "---  ------                --------------   -----   \n",
      " 0   user_id               206209 non-null  int32   \n",
      " 1   first_name            194950 non-null  category\n",
      " 2   surname               206209 non-null  category\n",
      " 3   gender                206209 non-null  category\n",
      " 4   state                 206209 non-null  category\n",
      " 5   age                   206209 non-null  int8    \n",
      " 6   date_joined           206209 non-null  category\n",
      " 7   number_of_dependants  206209 non-null  int8    \n",
      " 8   marital_status        206209 non-null  category\n",
      " 9   income                206209 non-null  int32   \n",
      "dtypes: category(6), int32(2), int8(2)\n",
      "memory usage: 3.8 MB\n"
     ]
    }
   ],
   "source": [
    "#check data types\n",
    "df_cust.info()"
   ]
  },
  {
   "cell_type": "code",
   "execution_count": 28,
   "id": "5925fd93",
   "metadata": {},
   "outputs": [
    {
     "name": "stdout",
     "output_type": "stream",
     "text": [
      "first_name\n"
     ]
    }
   ],
   "source": [
    "#check for mixed data types\n",
    "for col in df_cust.columns.tolist():\n",
    "  weird = (df_cust[[col]].applymap(type) != df_cust[[col]].iloc[0].apply(type)).any(axis = 1)\n",
    "  if len (df_cust[weird]) > 0:\n",
    "    print (col)"
   ]
  },
  {
   "cell_type": "markdown",
   "id": "ae56b46e",
   "metadata": {},
   "source": [
    "The first_name column returns a mixed data type. Let's investigate further as to why this is."
   ]
  },
  {
   "cell_type": "code",
   "execution_count": 29,
   "id": "b2727ae8",
   "metadata": {},
   "outputs": [
    {
     "name": "stdout",
     "output_type": "stream",
     "text": [
      "11259\n"
     ]
    }
   ],
   "source": [
    "#find NaN value\n",
    "print(df_cust['first_name'].isna().sum())"
   ]
  },
  {
   "cell_type": "markdown",
   "id": "08a94c03",
   "metadata": {},
   "source": [
    "The customers' first_name column has 11, 259 nulls! Dropping might be a good idea, since there's so many."
   ]
  },
  {
   "cell_type": "code",
   "execution_count": 30,
   "id": "7170e74e",
   "metadata": {},
   "outputs": [],
   "source": [
    "df_cust.drop(columns=['first_name'],inplace=True)"
   ]
  },
  {
   "cell_type": "code",
   "execution_count": 31,
   "id": "3f4bedc6",
   "metadata": {},
   "outputs": [],
   "source": [
    "for col in df_cust.columns.tolist():\n",
    "  weird = (df_cust[[col]].applymap(type) != df_cust[[col]].iloc[0].apply(type)).any(axis = 1)\n",
    "  if len (df_cust[weird]) > 0:\n",
    "    print (col)"
   ]
  },
  {
   "cell_type": "markdown",
   "id": "b1787b41",
   "metadata": {},
   "source": [
    "No more mixed data types!!"
   ]
  },
  {
   "cell_type": "code",
   "execution_count": 32,
   "id": "c21dbce3",
   "metadata": {},
   "outputs": [
    {
     "name": "stdout",
     "output_type": "stream",
     "text": [
      "<class 'pandas.core.frame.DataFrame'>\n",
      "RangeIndex: 206209 entries, 0 to 206208\n",
      "Data columns (total 9 columns):\n",
      " #   Column                Non-Null Count   Dtype   \n",
      "---  ------                --------------   -----   \n",
      " 0   user_id               206209 non-null  int32   \n",
      " 1   surname               206209 non-null  category\n",
      " 2   gender                206209 non-null  category\n",
      " 3   state                 206209 non-null  category\n",
      " 4   age                   206209 non-null  int8    \n",
      " 5   date_joined           206209 non-null  category\n",
      " 6   number_of_dependants  206209 non-null  int8    \n",
      " 7   marital_status        206209 non-null  category\n",
      " 8   income                206209 non-null  int32   \n",
      "dtypes: category(5), int32(2), int8(2)\n",
      "memory usage: 3.4 MB\n"
     ]
    }
   ],
   "source": [
    "df_cust.info()"
   ]
  },
  {
   "cell_type": "markdown",
   "id": "990503bc",
   "metadata": {},
   "source": [
    "#### 2. Check for Missing Values"
   ]
  },
  {
   "cell_type": "code",
   "execution_count": 33,
   "id": "3b3ce106",
   "metadata": {},
   "outputs": [
    {
     "data": {
      "text/plain": [
       "user_id                 0\n",
       "surname                 0\n",
       "gender                  0\n",
       "state                   0\n",
       "age                     0\n",
       "date_joined             0\n",
       "number_of_dependants    0\n",
       "marital_status          0\n",
       "income                  0\n",
       "dtype: int64"
      ]
     },
     "execution_count": 33,
     "metadata": {},
     "output_type": "execute_result"
    }
   ],
   "source": [
    "#checking for nulls\n",
    "\n",
    "df_cust.isnull().sum()"
   ]
  },
  {
   "cell_type": "markdown",
   "id": "190b54c6",
   "metadata": {},
   "source": [
    "There are no missing or null values!"
   ]
  },
  {
   "cell_type": "markdown",
   "id": "ccbb4d0f",
   "metadata": {},
   "source": [
    "#### 3. Check for Duplicates"
   ]
  },
  {
   "cell_type": "code",
   "execution_count": 34,
   "id": "1fc0d7ed",
   "metadata": {},
   "outputs": [
    {
     "data": {
      "text/html": [
       "<div>\n",
       "<style scoped>\n",
       "    .dataframe tbody tr th:only-of-type {\n",
       "        vertical-align: middle;\n",
       "    }\n",
       "\n",
       "    .dataframe tbody tr th {\n",
       "        vertical-align: top;\n",
       "    }\n",
       "\n",
       "    .dataframe thead th {\n",
       "        text-align: right;\n",
       "    }\n",
       "</style>\n",
       "<table border=\"1\" class=\"dataframe\">\n",
       "  <thead>\n",
       "    <tr style=\"text-align: right;\">\n",
       "      <th></th>\n",
       "      <th>user_id</th>\n",
       "      <th>surname</th>\n",
       "      <th>gender</th>\n",
       "      <th>state</th>\n",
       "      <th>age</th>\n",
       "      <th>date_joined</th>\n",
       "      <th>number_of_dependants</th>\n",
       "      <th>marital_status</th>\n",
       "      <th>income</th>\n",
       "    </tr>\n",
       "  </thead>\n",
       "  <tbody>\n",
       "  </tbody>\n",
       "</table>\n",
       "</div>"
      ],
      "text/plain": [
       "Empty DataFrame\n",
       "Columns: [user_id, surname, gender, state, age, date_joined, number_of_dependants, marital_status, income]\n",
       "Index: []"
      ]
     },
     "execution_count": 34,
     "metadata": {},
     "output_type": "execute_result"
    }
   ],
   "source": [
    "# check for duplicate values\n",
    "df_cust[df_cust.duplicated()]"
   ]
  },
  {
   "cell_type": "markdown",
   "id": "0d25491b",
   "metadata": {},
   "source": [
    "No duplicate values!"
   ]
  },
  {
   "cell_type": "markdown",
   "id": "ddd78726",
   "metadata": {},
   "source": [
    "# Step 6: Combine the Datasets"
   ]
  },
  {
   "cell_type": "markdown",
   "id": "f43b2ce4",
   "metadata": {},
   "source": [
    "#### Combine your customer data with the rest of your prepared Instacart data. (Hint: Make sure the key columns are the same data type!)"
   ]
  },
  {
   "cell_type": "code",
   "execution_count": 35,
   "id": "d6b18f45",
   "metadata": {},
   "outputs": [
    {
     "name": "stdout",
     "output_type": "stream",
     "text": [
      "<class 'pandas.core.frame.DataFrame'>\n",
      "RangeIndex: 32404859 entries, 0 to 32404858\n",
      "Data columns (total 18 columns):\n",
      " #   Column                  Dtype   \n",
      "---  ------                  -----   \n",
      " 0   order_id                int32   \n",
      " 1   user_id                 int32   \n",
      " 2   order_number            int8    \n",
      " 3   orders_day_of_week      int8    \n",
      " 4   order_hour_of_day       int8    \n",
      " 5   days_since_prior_order  float32 \n",
      " 6   product_id              int32   \n",
      " 7   add_to_cart_order       int16   \n",
      " 8   reordered               int8    \n",
      " 9   product_name            category\n",
      " 10  department_id           int8    \n",
      " 11  prices                  float32 \n",
      " 12  price_range             category\n",
      " 13  busiest_days            category\n",
      " 14  max_order               int8    \n",
      " 15  loyalty_flag            category\n",
      " 16  spending_flag           category\n",
      " 17  order_frequency_flag    category\n",
      "dtypes: category(6), float32(2), int16(1), int32(3), int8(6)\n",
      "memory usage: 1.1 GB\n"
     ]
    }
   ],
   "source": [
    "#checking data types and columns for ords_prods_merge dataframe\n",
    "ords_prods_merge.info()"
   ]
  },
  {
   "cell_type": "code",
   "execution_count": 36,
   "id": "4e27661c",
   "metadata": {},
   "outputs": [
    {
     "name": "stdout",
     "output_type": "stream",
     "text": [
      "<class 'pandas.core.frame.DataFrame'>\n",
      "RangeIndex: 206209 entries, 0 to 206208\n",
      "Data columns (total 9 columns):\n",
      " #   Column                Non-Null Count   Dtype   \n",
      "---  ------                --------------   -----   \n",
      " 0   user_id               206209 non-null  int32   \n",
      " 1   surname               206209 non-null  category\n",
      " 2   gender                206209 non-null  category\n",
      " 3   state                 206209 non-null  category\n",
      " 4   age                   206209 non-null  int8    \n",
      " 5   date_joined           206209 non-null  category\n",
      " 6   number_of_dependants  206209 non-null  int8    \n",
      " 7   marital_status        206209 non-null  category\n",
      " 8   income                206209 non-null  int32   \n",
      "dtypes: category(5), int32(2), int8(2)\n",
      "memory usage: 3.4 MB\n"
     ]
    }
   ],
   "source": [
    "#checking data types and columns for df_cust dataframe\n",
    "df_cust.info()"
   ]
  },
  {
   "cell_type": "code",
   "execution_count": 37,
   "id": "f4722c29",
   "metadata": {},
   "outputs": [
    {
     "data": {
      "text/plain": [
       "(32404859, 18)"
      ]
     },
     "execution_count": 37,
     "metadata": {},
     "output_type": "execute_result"
    }
   ],
   "source": [
    "ords_prods_merge.shape"
   ]
  },
  {
   "cell_type": "code",
   "execution_count": 38,
   "id": "c62f6bf0",
   "metadata": {},
   "outputs": [
    {
     "data": {
      "text/plain": [
       "(206209, 9)"
      ]
     },
     "execution_count": 38,
     "metadata": {},
     "output_type": "execute_result"
    }
   ],
   "source": [
    "df_cust.shape"
   ]
  },
  {
   "cell_type": "code",
   "execution_count": 39,
   "id": "6459bd3f",
   "metadata": {},
   "outputs": [],
   "source": [
    "# Convert 'user_id' columns to a compatible data type\n",
    "ords_prods_merge['user_id'] = ords_prods_merge['user_id'].astype('int64')\n",
    "df_cust['user_id'] = df_cust['user_id'].astype('int64')\n"
   ]
  },
  {
   "cell_type": "code",
   "execution_count": 40,
   "id": "1ab742c9",
   "metadata": {},
   "outputs": [
    {
     "name": "stdout",
     "output_type": "stream",
     "text": [
      "int64\n",
      "int64\n"
     ]
    }
   ],
   "source": [
    "#checking dtypes of both datasets user_id since this will be what i merge on\n",
    "print(ords_prods_merge['user_id'].dtype)\n",
    "print(df_cust['user_id'].dtype)"
   ]
  },
  {
   "cell_type": "code",
   "execution_count": 41,
   "id": "b2fa6cbe",
   "metadata": {},
   "outputs": [],
   "source": [
    "# Merge the datasets using a join\n",
    "\n",
    "df_merged = df_cust.merge(ords_prods_merge, on = 'user_id', indicator = True)"
   ]
  },
  {
   "cell_type": "code",
   "execution_count": 42,
   "id": "4a0691b3",
   "metadata": {},
   "outputs": [
    {
     "data": {
      "text/html": [
       "<div>\n",
       "<style scoped>\n",
       "    .dataframe tbody tr th:only-of-type {\n",
       "        vertical-align: middle;\n",
       "    }\n",
       "\n",
       "    .dataframe tbody tr th {\n",
       "        vertical-align: top;\n",
       "    }\n",
       "\n",
       "    .dataframe thead th {\n",
       "        text-align: right;\n",
       "    }\n",
       "</style>\n",
       "<table border=\"1\" class=\"dataframe\">\n",
       "  <thead>\n",
       "    <tr style=\"text-align: right;\">\n",
       "      <th></th>\n",
       "      <th>user_id</th>\n",
       "      <th>surname</th>\n",
       "      <th>gender</th>\n",
       "      <th>state</th>\n",
       "      <th>age</th>\n",
       "      <th>date_joined</th>\n",
       "      <th>number_of_dependants</th>\n",
       "      <th>marital_status</th>\n",
       "      <th>income</th>\n",
       "      <th>order_id</th>\n",
       "      <th>...</th>\n",
       "      <th>product_name</th>\n",
       "      <th>department_id</th>\n",
       "      <th>prices</th>\n",
       "      <th>price_range</th>\n",
       "      <th>busiest_days</th>\n",
       "      <th>max_order</th>\n",
       "      <th>loyalty_flag</th>\n",
       "      <th>spending_flag</th>\n",
       "      <th>order_frequency_flag</th>\n",
       "      <th>_merge</th>\n",
       "    </tr>\n",
       "  </thead>\n",
       "  <tbody>\n",
       "    <tr>\n",
       "      <th>0</th>\n",
       "      <td>26711</td>\n",
       "      <td>Esquivel</td>\n",
       "      <td>Female</td>\n",
       "      <td>Missouri</td>\n",
       "      <td>48</td>\n",
       "      <td>1/1/2017</td>\n",
       "      <td>3</td>\n",
       "      <td>married</td>\n",
       "      <td>165665</td>\n",
       "      <td>2543867</td>\n",
       "      <td>...</td>\n",
       "      <td>Soda</td>\n",
       "      <td>7</td>\n",
       "      <td>9.0</td>\n",
       "      <td>Mid-range product</td>\n",
       "      <td>Busiest days</td>\n",
       "      <td>8</td>\n",
       "      <td>New customer</td>\n",
       "      <td>Low spender</td>\n",
       "      <td>Regular customer</td>\n",
       "      <td>both</td>\n",
       "    </tr>\n",
       "    <tr>\n",
       "      <th>1</th>\n",
       "      <td>26711</td>\n",
       "      <td>Esquivel</td>\n",
       "      <td>Female</td>\n",
       "      <td>Missouri</td>\n",
       "      <td>48</td>\n",
       "      <td>1/1/2017</td>\n",
       "      <td>3</td>\n",
       "      <td>married</td>\n",
       "      <td>165665</td>\n",
       "      <td>1285508</td>\n",
       "      <td>...</td>\n",
       "      <td>Soda</td>\n",
       "      <td>7</td>\n",
       "      <td>9.0</td>\n",
       "      <td>Mid-range product</td>\n",
       "      <td>Regularly busy</td>\n",
       "      <td>8</td>\n",
       "      <td>New customer</td>\n",
       "      <td>Low spender</td>\n",
       "      <td>Regular customer</td>\n",
       "      <td>both</td>\n",
       "    </tr>\n",
       "    <tr>\n",
       "      <th>2</th>\n",
       "      <td>26711</td>\n",
       "      <td>Esquivel</td>\n",
       "      <td>Female</td>\n",
       "      <td>Missouri</td>\n",
       "      <td>48</td>\n",
       "      <td>1/1/2017</td>\n",
       "      <td>3</td>\n",
       "      <td>married</td>\n",
       "      <td>165665</td>\n",
       "      <td>2578584</td>\n",
       "      <td>...</td>\n",
       "      <td>Soda</td>\n",
       "      <td>7</td>\n",
       "      <td>9.0</td>\n",
       "      <td>Mid-range product</td>\n",
       "      <td>Busiest days</td>\n",
       "      <td>8</td>\n",
       "      <td>New customer</td>\n",
       "      <td>Low spender</td>\n",
       "      <td>Regular customer</td>\n",
       "      <td>both</td>\n",
       "    </tr>\n",
       "    <tr>\n",
       "      <th>3</th>\n",
       "      <td>26711</td>\n",
       "      <td>Esquivel</td>\n",
       "      <td>Female</td>\n",
       "      <td>Missouri</td>\n",
       "      <td>48</td>\n",
       "      <td>1/1/2017</td>\n",
       "      <td>3</td>\n",
       "      <td>married</td>\n",
       "      <td>165665</td>\n",
       "      <td>423547</td>\n",
       "      <td>...</td>\n",
       "      <td>0% Greek Strained Yogurt</td>\n",
       "      <td>16</td>\n",
       "      <td>12.6</td>\n",
       "      <td>Mid-range product</td>\n",
       "      <td>Regularly busy</td>\n",
       "      <td>8</td>\n",
       "      <td>New customer</td>\n",
       "      <td>Low spender</td>\n",
       "      <td>Regular customer</td>\n",
       "      <td>both</td>\n",
       "    </tr>\n",
       "    <tr>\n",
       "      <th>4</th>\n",
       "      <td>26711</td>\n",
       "      <td>Esquivel</td>\n",
       "      <td>Female</td>\n",
       "      <td>Missouri</td>\n",
       "      <td>48</td>\n",
       "      <td>1/1/2017</td>\n",
       "      <td>3</td>\n",
       "      <td>married</td>\n",
       "      <td>165665</td>\n",
       "      <td>2524893</td>\n",
       "      <td>...</td>\n",
       "      <td>0% Greek Strained Yogurt</td>\n",
       "      <td>16</td>\n",
       "      <td>12.6</td>\n",
       "      <td>Mid-range product</td>\n",
       "      <td>Least busy days</td>\n",
       "      <td>8</td>\n",
       "      <td>New customer</td>\n",
       "      <td>Low spender</td>\n",
       "      <td>Regular customer</td>\n",
       "      <td>both</td>\n",
       "    </tr>\n",
       "  </tbody>\n",
       "</table>\n",
       "<p>5 rows × 27 columns</p>\n",
       "</div>"
      ],
      "text/plain": [
       "   user_id   surname  gender     state  age date_joined  number_of_dependants  \\\n",
       "0    26711  Esquivel  Female  Missouri   48    1/1/2017                     3   \n",
       "1    26711  Esquivel  Female  Missouri   48    1/1/2017                     3   \n",
       "2    26711  Esquivel  Female  Missouri   48    1/1/2017                     3   \n",
       "3    26711  Esquivel  Female  Missouri   48    1/1/2017                     3   \n",
       "4    26711  Esquivel  Female  Missouri   48    1/1/2017                     3   \n",
       "\n",
       "  marital_status  income  order_id  ...              product_name  \\\n",
       "0        married  165665   2543867  ...                      Soda   \n",
       "1        married  165665   1285508  ...                      Soda   \n",
       "2        married  165665   2578584  ...                      Soda   \n",
       "3        married  165665    423547  ...  0% Greek Strained Yogurt   \n",
       "4        married  165665   2524893  ...  0% Greek Strained Yogurt   \n",
       "\n",
       "   department_id  prices        price_range     busiest_days  max_order  \\\n",
       "0              7     9.0  Mid-range product     Busiest days          8   \n",
       "1              7     9.0  Mid-range product   Regularly busy          8   \n",
       "2              7     9.0  Mid-range product     Busiest days          8   \n",
       "3             16    12.6  Mid-range product   Regularly busy          8   \n",
       "4             16    12.6  Mid-range product  Least busy days          8   \n",
       "\n",
       "   loyalty_flag spending_flag  order_frequency_flag  _merge  \n",
       "0  New customer   Low spender      Regular customer    both  \n",
       "1  New customer   Low spender      Regular customer    both  \n",
       "2  New customer   Low spender      Regular customer    both  \n",
       "3  New customer   Low spender      Regular customer    both  \n",
       "4  New customer   Low spender      Regular customer    both  \n",
       "\n",
       "[5 rows x 27 columns]"
      ]
     },
     "execution_count": 42,
     "metadata": {},
     "output_type": "execute_result"
    }
   ],
   "source": [
    "df_merged.head()"
   ]
  },
  {
   "cell_type": "code",
   "execution_count": 43,
   "id": "dc066649",
   "metadata": {},
   "outputs": [
    {
     "data": {
      "text/plain": [
       "_merge\n",
       "both          32404859\n",
       "left_only            0\n",
       "right_only           0\n",
       "Name: count, dtype: int64"
      ]
     },
     "execution_count": 43,
     "metadata": {},
     "output_type": "execute_result"
    }
   ],
   "source": [
    "# Check to see if fully merged\n",
    "df_merged['_merge'].value_counts()"
   ]
  },
  {
   "cell_type": "markdown",
   "id": "6435635e",
   "metadata": {},
   "source": [
    "Fully merged!"
   ]
  },
  {
   "cell_type": "code",
   "execution_count": 44,
   "id": "2e771f4b",
   "metadata": {},
   "outputs": [],
   "source": [
    "# remove the indicator column\n",
    "df_merged.drop(columns=['_merge'],inplace=True)"
   ]
  },
  {
   "cell_type": "code",
   "execution_count": 45,
   "id": "220537d1",
   "metadata": {},
   "outputs": [
    {
     "data": {
      "text/html": [
       "<div>\n",
       "<style scoped>\n",
       "    .dataframe tbody tr th:only-of-type {\n",
       "        vertical-align: middle;\n",
       "    }\n",
       "\n",
       "    .dataframe tbody tr th {\n",
       "        vertical-align: top;\n",
       "    }\n",
       "\n",
       "    .dataframe thead th {\n",
       "        text-align: right;\n",
       "    }\n",
       "</style>\n",
       "<table border=\"1\" class=\"dataframe\">\n",
       "  <thead>\n",
       "    <tr style=\"text-align: right;\">\n",
       "      <th></th>\n",
       "      <th>user_id</th>\n",
       "      <th>surname</th>\n",
       "      <th>gender</th>\n",
       "      <th>state</th>\n",
       "      <th>age</th>\n",
       "      <th>date_joined</th>\n",
       "      <th>number_of_dependants</th>\n",
       "      <th>marital_status</th>\n",
       "      <th>income</th>\n",
       "      <th>order_id</th>\n",
       "      <th>...</th>\n",
       "      <th>reordered</th>\n",
       "      <th>product_name</th>\n",
       "      <th>department_id</th>\n",
       "      <th>prices</th>\n",
       "      <th>price_range</th>\n",
       "      <th>busiest_days</th>\n",
       "      <th>max_order</th>\n",
       "      <th>loyalty_flag</th>\n",
       "      <th>spending_flag</th>\n",
       "      <th>order_frequency_flag</th>\n",
       "    </tr>\n",
       "  </thead>\n",
       "  <tbody>\n",
       "    <tr>\n",
       "      <th>0</th>\n",
       "      <td>26711</td>\n",
       "      <td>Esquivel</td>\n",
       "      <td>Female</td>\n",
       "      <td>Missouri</td>\n",
       "      <td>48</td>\n",
       "      <td>1/1/2017</td>\n",
       "      <td>3</td>\n",
       "      <td>married</td>\n",
       "      <td>165665</td>\n",
       "      <td>2543867</td>\n",
       "      <td>...</td>\n",
       "      <td>0</td>\n",
       "      <td>Soda</td>\n",
       "      <td>7</td>\n",
       "      <td>9.0</td>\n",
       "      <td>Mid-range product</td>\n",
       "      <td>Busiest days</td>\n",
       "      <td>8</td>\n",
       "      <td>New customer</td>\n",
       "      <td>Low spender</td>\n",
       "      <td>Regular customer</td>\n",
       "    </tr>\n",
       "    <tr>\n",
       "      <th>1</th>\n",
       "      <td>26711</td>\n",
       "      <td>Esquivel</td>\n",
       "      <td>Female</td>\n",
       "      <td>Missouri</td>\n",
       "      <td>48</td>\n",
       "      <td>1/1/2017</td>\n",
       "      <td>3</td>\n",
       "      <td>married</td>\n",
       "      <td>165665</td>\n",
       "      <td>1285508</td>\n",
       "      <td>...</td>\n",
       "      <td>1</td>\n",
       "      <td>Soda</td>\n",
       "      <td>7</td>\n",
       "      <td>9.0</td>\n",
       "      <td>Mid-range product</td>\n",
       "      <td>Regularly busy</td>\n",
       "      <td>8</td>\n",
       "      <td>New customer</td>\n",
       "      <td>Low spender</td>\n",
       "      <td>Regular customer</td>\n",
       "    </tr>\n",
       "    <tr>\n",
       "      <th>2</th>\n",
       "      <td>26711</td>\n",
       "      <td>Esquivel</td>\n",
       "      <td>Female</td>\n",
       "      <td>Missouri</td>\n",
       "      <td>48</td>\n",
       "      <td>1/1/2017</td>\n",
       "      <td>3</td>\n",
       "      <td>married</td>\n",
       "      <td>165665</td>\n",
       "      <td>2578584</td>\n",
       "      <td>...</td>\n",
       "      <td>1</td>\n",
       "      <td>Soda</td>\n",
       "      <td>7</td>\n",
       "      <td>9.0</td>\n",
       "      <td>Mid-range product</td>\n",
       "      <td>Busiest days</td>\n",
       "      <td>8</td>\n",
       "      <td>New customer</td>\n",
       "      <td>Low spender</td>\n",
       "      <td>Regular customer</td>\n",
       "    </tr>\n",
       "    <tr>\n",
       "      <th>3</th>\n",
       "      <td>26711</td>\n",
       "      <td>Esquivel</td>\n",
       "      <td>Female</td>\n",
       "      <td>Missouri</td>\n",
       "      <td>48</td>\n",
       "      <td>1/1/2017</td>\n",
       "      <td>3</td>\n",
       "      <td>married</td>\n",
       "      <td>165665</td>\n",
       "      <td>423547</td>\n",
       "      <td>...</td>\n",
       "      <td>0</td>\n",
       "      <td>0% Greek Strained Yogurt</td>\n",
       "      <td>16</td>\n",
       "      <td>12.6</td>\n",
       "      <td>Mid-range product</td>\n",
       "      <td>Regularly busy</td>\n",
       "      <td>8</td>\n",
       "      <td>New customer</td>\n",
       "      <td>Low spender</td>\n",
       "      <td>Regular customer</td>\n",
       "    </tr>\n",
       "    <tr>\n",
       "      <th>4</th>\n",
       "      <td>26711</td>\n",
       "      <td>Esquivel</td>\n",
       "      <td>Female</td>\n",
       "      <td>Missouri</td>\n",
       "      <td>48</td>\n",
       "      <td>1/1/2017</td>\n",
       "      <td>3</td>\n",
       "      <td>married</td>\n",
       "      <td>165665</td>\n",
       "      <td>2524893</td>\n",
       "      <td>...</td>\n",
       "      <td>1</td>\n",
       "      <td>0% Greek Strained Yogurt</td>\n",
       "      <td>16</td>\n",
       "      <td>12.6</td>\n",
       "      <td>Mid-range product</td>\n",
       "      <td>Least busy days</td>\n",
       "      <td>8</td>\n",
       "      <td>New customer</td>\n",
       "      <td>Low spender</td>\n",
       "      <td>Regular customer</td>\n",
       "    </tr>\n",
       "  </tbody>\n",
       "</table>\n",
       "<p>5 rows × 26 columns</p>\n",
       "</div>"
      ],
      "text/plain": [
       "   user_id   surname  gender     state  age date_joined  number_of_dependants  \\\n",
       "0    26711  Esquivel  Female  Missouri   48    1/1/2017                     3   \n",
       "1    26711  Esquivel  Female  Missouri   48    1/1/2017                     3   \n",
       "2    26711  Esquivel  Female  Missouri   48    1/1/2017                     3   \n",
       "3    26711  Esquivel  Female  Missouri   48    1/1/2017                     3   \n",
       "4    26711  Esquivel  Female  Missouri   48    1/1/2017                     3   \n",
       "\n",
       "  marital_status  income  order_id  ...  reordered              product_name  \\\n",
       "0        married  165665   2543867  ...          0                      Soda   \n",
       "1        married  165665   1285508  ...          1                      Soda   \n",
       "2        married  165665   2578584  ...          1                      Soda   \n",
       "3        married  165665    423547  ...          0  0% Greek Strained Yogurt   \n",
       "4        married  165665   2524893  ...          1  0% Greek Strained Yogurt   \n",
       "\n",
       "   department_id  prices        price_range     busiest_days  max_order  \\\n",
       "0              7     9.0  Mid-range product     Busiest days          8   \n",
       "1              7     9.0  Mid-range product   Regularly busy          8   \n",
       "2              7     9.0  Mid-range product     Busiest days          8   \n",
       "3             16    12.6  Mid-range product   Regularly busy          8   \n",
       "4             16    12.6  Mid-range product  Least busy days          8   \n",
       "\n",
       "   loyalty_flag  spending_flag  order_frequency_flag  \n",
       "0  New customer    Low spender      Regular customer  \n",
       "1  New customer    Low spender      Regular customer  \n",
       "2  New customer    Low spender      Regular customer  \n",
       "3  New customer    Low spender      Regular customer  \n",
       "4  New customer    Low spender      Regular customer  \n",
       "\n",
       "[5 rows x 26 columns]"
      ]
     },
     "execution_count": 45,
     "metadata": {},
     "output_type": "execute_result"
    }
   ],
   "source": [
    "#check to see if it worked \n",
    "df_merged.head()"
   ]
  },
  {
   "cell_type": "markdown",
   "id": "4b782e72",
   "metadata": {},
   "source": [
    "# Step 8: Export Data"
   ]
  },
  {
   "cell_type": "markdown",
   "id": "4a628933",
   "metadata": {},
   "source": [
    "#### Export new cleaned ords_prods_merge file"
   ]
  },
  {
   "cell_type": "code",
   "execution_count": 46,
   "id": "d629ba7c",
   "metadata": {},
   "outputs": [],
   "source": [
    "# This is to ensure that the ords_prods_merge file is fully cleaned and has the new data types for easier use\n",
    "\n",
    "ords_prods_merge.to_pickle(os.path.join(path,'Data','Prepared Data','updated_integer_ords_prods_merge.pkl'))"
   ]
  },
  {
   "cell_type": "code",
   "execution_count": 47,
   "id": "50a9e78c",
   "metadata": {},
   "outputs": [],
   "source": [
    "# This is to ensure that the df_cust file is fully cleaned and has the new data types for easier use\n",
    "\n",
    "df_cust.to_pickle(os.path.join(path,'Data','Prepared Data','updated_integer_df_cust.pkl'))"
   ]
  },
  {
   "cell_type": "markdown",
   "id": "60248be0",
   "metadata": {},
   "source": [
    "#### Export new merged file, ords_prods_cust_merge"
   ]
  },
  {
   "cell_type": "code",
   "execution_count": 48,
   "id": "888b6633",
   "metadata": {},
   "outputs": [],
   "source": [
    "# Export new merged dataset\n",
    "\n",
    "df_merged.to_pickle(os.path.join(path, 'Data','Prepared Data','orders_products_customers_merged.pkl'))"
   ]
  }
 ],
 "metadata": {
  "kernelspec": {
   "display_name": "Python 3 (ipykernel)",
   "language": "python",
   "name": "python3"
  },
  "language_info": {
   "codemirror_mode": {
    "name": "ipython",
    "version": 3
   },
   "file_extension": ".py",
   "mimetype": "text/x-python",
   "name": "python",
   "nbconvert_exporter": "python",
   "pygments_lexer": "ipython3",
   "version": "3.11.4"
  }
 },
 "nbformat": 4,
 "nbformat_minor": 5
}
